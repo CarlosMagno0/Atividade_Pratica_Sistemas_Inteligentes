{
  "nbformat": 4,
  "nbformat_minor": 0,
  "metadata": {
    "colab": {
      "provenance": []
    },
    "kernelspec": {
      "name": "python3",
      "display_name": "Python 3"
    },
    "language_info": {
      "name": "python"
    }
  },
  "cells": [
    {
      "cell_type": "code",
      "source": [
        "# prompt: leia o arquivo titanic.csv\n",
        "\n",
        "import pandas as pd\n",
        "from sklearn.model_selection import train_test_split\n",
        "\n",
        "df = pd.read_csv('titanic.csv')\n",
        "\n",
        "features = [\"Pclass\",\"Sex\",\"Age\",\"Fare\",\"SibSp\",\"Parch\"]\n",
        "\n",
        "x = df[features]\n",
        "x[\"Sex\"] = x[\"Sex\"].map({\"male\":0, \"female\":1})\n",
        "\n",
        "y = df[\"Survived\"]\n",
        "\n",
        "x = x.fillna(x.mean())\n",
        "\n",
        "x_train, x_test, y_train, y_test = train_test_split(x, y, test_size=0.2, random_state=42)\n",
        "\n",
        "from sklearn.tree import DecisionTreeClassifier\n",
        "from sklearn.tree import export_text\n",
        "from sklearn.metrics import accuracy_score\n",
        "\n",
        "# criando classificador\n",
        "decision_tree_classifier = DecisionTreeClassifier()\n",
        "\n",
        "decision_tree_classifier.fit(x_train, y_train)\n",
        "\n",
        "tree_rules = export_text(decision_tree_classifier, feature_names=features)\n",
        "\n",
        "print(tree_rules)\n"
      ],
      "metadata": {
        "id": "BDY3G3EgbpwB"
      },
      "execution_count": null,
      "outputs": []
    },
    {
      "cell_type": "code",
      "source": [
        "predictions = decision_tree_classifier.predict(x_test)\n",
        "\n",
        "accuracy = accuracy_score(y_test, predictions)\n",
        "print(\"Precisão: \", accuracy)"
      ],
      "metadata": {
        "colab": {
          "base_uri": "https://localhost:8080/"
        },
        "id": "2RWSxMaZbsuA",
        "outputId": "9038d8ed-1f83-4c2c-e953-617b24db3860"
      },
      "execution_count": 3,
      "outputs": [
        {
          "output_type": "stream",
          "name": "stdout",
          "text": [
            "Precisão:  0.7486033519553073\n"
          ]
        }
      ]
    },
    {
      "cell_type": "code",
      "source": [
        "from sklearn.neural_network import MLPClassifier\n",
        "\n",
        "mlp = MLPClassifier(hidden_layer_sizes=(10,5), max_iter=1000, random_state=42)\n",
        "\n",
        "mlp.fit(x_train, y_train)\n",
        "\n",
        "\n",
        "predictions = mlp.predict(x_test)\n",
        "\n",
        "accuracy = accuracy_score(y_test, predictions)\n",
        "print(\"Precisão: \", accuracy)\n"
      ],
      "metadata": {
        "colab": {
          "base_uri": "https://localhost:8080/"
        },
        "id": "YuIfU_50bs0x",
        "outputId": "93e04503-14bf-4df3-ed41-317ae5ef4212"
      },
      "execution_count": 4,
      "outputs": [
        {
          "output_type": "stream",
          "name": "stdout",
          "text": [
            "Precisão:  0.8044692737430168\n"
          ]
        }
      ]
    }
  ]
}